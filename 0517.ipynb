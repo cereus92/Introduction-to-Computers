{
  "nbformat": 4,
  "nbformat_minor": 0,
  "metadata": {
    "colab": {
      "provenance": [],
      "authorship_tag": "ABX9TyNdvzpvC1+q/L6EWCQo08j6",
      "include_colab_link": true
    },
    "kernelspec": {
      "name": "python3",
      "display_name": "Python 3"
    },
    "language_info": {
      "name": "python"
    }
  },
  "cells": [
    {
      "cell_type": "markdown",
      "metadata": {
        "id": "view-in-github",
        "colab_type": "text"
      },
      "source": [
        "<a href=\"https://colab.research.google.com/github/cereus92/Introduction-to-Computers/blob/main/0517.ipynb\" target=\"_parent\"><img src=\"https://colab.research.google.com/assets/colab-badge.svg\" alt=\"Open In Colab\"/></a>"
      ]
    },
    {
      "cell_type": "code",
      "execution_count": 1,
      "metadata": {
        "colab": {
          "base_uri": "https://localhost:8080/"
        },
        "id": "dVWVX7I9G9Xw",
        "outputId": "0538b73d-a592-48bd-83f3-a0fbca054339"
      },
      "outputs": [
        {
          "output_type": "stream",
          "name": "stdout",
          "text": [
            "score: 50\n",
            "Grade is: F\n"
          ]
        }
      ],
      "source": [
        "score = int(input(\"score: \"))\n",
        "if score >= 90:\n",
        "    print('Grade is: A')\n",
        "elif score >= 80:\n",
        "    print('Grade is: B')\n",
        "elif score >= 70:\n",
        "    print('Grade is: C')\n",
        "elif score >= 60:\n",
        "    print('Grade is: D')\n",
        "else:\n",
        "    print('Grade is: F')"
      ]
    },
    {
      "cell_type": "code",
      "source": [
        "rain=str(input(\"請輸入:\"))\n",
        "if (rain == 'Y' ):\n",
        "  print('出門記得帶傘')\n",
        "if (rain == 'y' ):\n",
        "  print('不用帶傘')"
      ],
      "metadata": {
        "colab": {
          "base_uri": "https://localhost:8080/"
        },
        "outputId": "a9cc38df-5648-4cf4-fac2-6f6a12d25172",
        "id": "w3cWdhb2NVHt"
      },
      "execution_count": 15,
      "outputs": [
        {
          "output_type": "stream",
          "name": "stdout",
          "text": [
            "請輸入:y\n",
            "不用帶傘\n"
          ]
        }
      ]
    },
    {
      "cell_type": "code",
      "source": [
        "體溫 = int(input(\"體溫: \"))\n",
        "if 體溫 >= 37.5:\n",
        "    print('體溫過高!')\n",
        "elif 體溫 >= 37:\n",
        "    print('體溫略高!')\n",
        "elif 體溫 >= 34:\n",
        "    print('體溫正常!')\n",
        "else:\n",
        "    print('體溫異常，請重新量測!')"
      ],
      "metadata": {
        "colab": {
          "base_uri": "https://localhost:8080/"
        },
        "id": "KutHjbhHHWs-",
        "outputId": "94a11e71-46b6-4371-d74f-333fa46b9644"
      },
      "execution_count": 3,
      "outputs": [
        {
          "output_type": "stream",
          "name": "stdout",
          "text": [
            "體溫: 34\n",
            "體溫正常!\n"
          ]
        }
      ]
    },
    {
      "cell_type": "code",
      "source": [
        "成績 = int(input(\"成績: \"))\n",
        "if 成績 >= 90:\n",
        "    print('A')\n",
        "elif 成績 >= 80:\n",
        "    print('B')\n",
        "elif 成績 >= 70:\n",
        "    print('C')\n",
        "elif 成績 >= 60:\n",
        "    print('D')\n",
        "else:\n",
        "    print('E')"
      ],
      "metadata": {
        "colab": {
          "base_uri": "https://localhost:8080/"
        },
        "id": "3bxd_SLNI2o6",
        "outputId": "f8a087bc-cbf7-4340-f0d9-17e5ca4604d5"
      },
      "execution_count": 4,
      "outputs": [
        {
          "output_type": "stream",
          "name": "stdout",
          "text": [
            "成績: 90\n",
            "A\n"
          ]
        }
      ]
    },
    {
      "cell_type": "code",
      "source": [
        "成績 = int(input(\"成績: \"))\n",
        "if 成績 >= 90:\n",
        "    print('A')\n",
        "elif 成績 >= 80:\n",
        "    print('B')\n",
        "elif 成績 >= 70:\n",
        "    print('C')\n",
        "elif 成績 >= 60:\n",
        "    print('D')\n",
        "else:\n",
        "    print('E')"
      ],
      "metadata": {
        "colab": {
          "base_uri": "https://localhost:8080/"
        },
        "outputId": "9045de56-7be6-497d-f7a7-f470b5f4d0fd",
        "id": "vQYnDhsGMn_6"
      },
      "execution_count": 14,
      "outputs": [
        {
          "output_type": "stream",
          "name": "stdout",
          "text": [
            "成績: 50\n",
            "E\n"
          ]
        }
      ]
    },
    {
      "cell_type": "code",
      "source": [
        "成績 = int(input(\"成績: \"))\n",
        "if 成績 >= 90:\n",
        "    print('A')\n",
        "elif 成績 >= 80:\n",
        "    print('B')\n",
        "elif 成績 >= 70:\n",
        "    print('C')\n",
        "elif 成績 >= 60:\n",
        "    print('D')\n",
        "else:\n",
        "    print('E')"
      ],
      "metadata": {
        "colab": {
          "base_uri": "https://localhost:8080/"
        },
        "id": "2QJm_oSfMlh5",
        "outputId": "5297adca-1a4c-4828-9a4b-b6c3f17e589b"
      },
      "execution_count": 16,
      "outputs": [
        {
          "output_type": "stream",
          "name": "stdout",
          "text": [
            "成績: 80\n",
            "B\n"
          ]
        }
      ]
    },
    {
      "cell_type": "code",
      "source": [
        "month = int(input(\"Month:\"))\n",
        "if month in [3,4,5]:\n",
        "    print(\"春季!\")\n",
        "elif month in [6,7,8]:\n",
        "    print(\"夏季!\")\n",
        "elif month in [9,10,11]:\n",
        "    print(\"秋季!\")\n",
        "elif month in [12,1,2]:\n",
        "    print(\"冬季!\")\n",
        "else:\n",
        "    print(\"月份不在範圍內!\")"
      ],
      "metadata": {
        "colab": {
          "base_uri": "https://localhost:8080/"
        },
        "id": "2FS9Eh0cJYov",
        "outputId": "5b173cc3-b9c2-4574-bbb2-11fbe2d34011"
      },
      "execution_count": 8,
      "outputs": [
        {
          "output_type": "stream",
          "name": "stdout",
          "text": [
            "Month:4\n",
            "春季!\n"
          ]
        }
      ]
    },
    {
      "cell_type": "code",
      "source": [
        "month = int(input(\"Month:\"))\n",
        "if month in [3,4,5]:\n",
        "    print(\"春季!\")\n",
        "elif month in [6,7,8]:\n",
        "    print(\"夏季!\")\n",
        "elif month in [9,10,11]:\n",
        "    print(\"秋季!\")\n",
        "elif month in [12,1,2]:\n",
        "    print(\"冬季!\")\n",
        "else:\n",
        "    print(\"月份不在範圍內!\")"
      ],
      "metadata": {
        "colab": {
          "base_uri": "https://localhost:8080/"
        },
        "outputId": "00656816-012d-4287-d229-daa1b86e9b4f",
        "id": "LTtRZ25SOYvO"
      },
      "execution_count": 17,
      "outputs": [
        {
          "output_type": "stream",
          "name": "stdout",
          "text": [
            "Month:14\n",
            "月份不在範圍內!\n"
          ]
        }
      ]
    },
    {
      "cell_type": "code",
      "source": [
        "income = int(input(\"請輸入所得淨額=\"))\n",
        "if income >= 2000000:\n",
        "  tax=income*0.3\n",
        "elif income >=1000000:\n",
        "  tax=income*0.21\n",
        "elif income >=600000:\n",
        "  tax=income*0.13\n",
        "elif income >=300000:\n",
        "  tax=income*0.06\n",
        "else:\n",
        "  tax=income*0\n",
        "print (\"應納稅額=\",int(tax+0.5))"
      ],
      "metadata": {
        "colab": {
          "base_uri": "https://localhost:8080/"
        },
        "id": "JQj1_1XyKrrf",
        "outputId": "4b9637ab-5897-40b2-8377-8309b99f9e0b"
      },
      "execution_count": 10,
      "outputs": [
        {
          "output_type": "stream",
          "name": "stdout",
          "text": [
            "請輸入所得淨額=100000\n",
            "應納稅額= 0\n"
          ]
        }
      ]
    },
    {
      "cell_type": "code",
      "source": [
        "income = int(input(\"請輸入所得淨額=\"))\n",
        "if income >= 2000000:\n",
        "  tax=income*0.3\n",
        "elif income >=1000000:\n",
        "  tax=income*0.21\n",
        "elif income >=600000:\n",
        "  tax=income*0.13\n",
        "elif income >=300000:\n",
        "  tax=income*0.06\n",
        "else:\n",
        "  tax=income*0\n",
        "print (\"應納稅額=\",int(tax+0.5))"
      ],
      "metadata": {
        "colab": {
          "base_uri": "https://localhost:8080/"
        },
        "id": "ZOFS7ms2MKl6",
        "outputId": "a9128996-cd77-4499-974b-3f6eb5c38d7c"
      },
      "execution_count": 13,
      "outputs": [
        {
          "output_type": "stream",
          "name": "stdout",
          "text": [
            "請輸入所得淨額=2000000\n",
            "應納稅額= 600000\n"
          ]
        }
      ]
    },
    {
      "cell_type": "code",
      "source": [],
      "metadata": {
        "id": "EsynsWQRMSso"
      },
      "execution_count": null,
      "outputs": []
    }
  ]
}