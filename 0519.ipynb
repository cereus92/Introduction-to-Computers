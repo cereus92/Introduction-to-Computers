{
  "nbformat": 4,
  "nbformat_minor": 0,
  "metadata": {
    "colab": {
      "provenance": [],
      "authorship_tag": "ABX9TyMjQWfGleqKkCzSbAFGeMmF",
      "include_colab_link": true
    },
    "kernelspec": {
      "name": "python3",
      "display_name": "Python 3"
    },
    "language_info": {
      "name": "python"
    }
  },
  "cells": [
    {
      "cell_type": "markdown",
      "metadata": {
        "id": "view-in-github",
        "colab_type": "text"
      },
      "source": [
        "<a href=\"https://colab.research.google.com/github/cereus92/Introduction-to-Computers/blob/main/0519.ipynb\" target=\"_parent\"><img src=\"https://colab.research.google.com/assets/colab-badge.svg\" alt=\"Open In Colab\"/></a>"
      ]
    },
    {
      "cell_type": "code",
      "execution_count": 1,
      "metadata": {
        "id": "q3vWOgQr_WGU",
        "colab": {
          "base_uri": "https://localhost:8080/"
        },
        "outputId": "c25e172f-fe2a-4ec9-bfde-1588f97f4cfa"
      },
      "outputs": [
        {
          "output_type": "stream",
          "name": "stdout",
          "text": [
            "hi\n"
          ]
        }
      ],
      "source": [
        "print('hi')"
      ]
    },
    {
      "cell_type": "code",
      "source": [
        "score=int(input('請輸入分數:'))\n",
        "if score >=60:\n",
        "  print('及格')\n",
        "else:\n",
        "  print('不及格')"
      ],
      "metadata": {
        "colab": {
          "base_uri": "https://localhost:8080/"
        },
        "id": "tvXHxWJLAx5Q",
        "outputId": "fb006dd0-fd9e-4628-c1bd-0d7b8bd27b9e"
      },
      "execution_count": 4,
      "outputs": [
        {
          "output_type": "stream",
          "name": "stdout",
          "text": [
            "請輸入分數:60\n",
            "及格\n"
          ]
        }
      ]
    },
    {
      "cell_type": "code",
      "source": [
        "score=int(input('請輸入分數:'))\n",
        "if score >=60:\n",
        "  print('及格')\n",
        "else:\n",
        "  print('不及格')"
      ],
      "metadata": {
        "colab": {
          "base_uri": "https://localhost:8080/"
        },
        "outputId": "7c127d33-5ca2-49a6-c6f4-538ef795ebd3",
        "id": "EADBGFKCCiNL"
      },
      "execution_count": 7,
      "outputs": [
        {
          "output_type": "stream",
          "name": "stdout",
          "text": [
            "請輸入分數:40\n",
            "不及格\n"
          ]
        }
      ]
    },
    {
      "cell_type": "code",
      "source": [
        "password=int(input('請輸入密碼:'))\n",
        "if password ==5978:\n",
        "  print('歡迎光臨!')"
      ],
      "metadata": {
        "colab": {
          "base_uri": "https://localhost:8080/"
        },
        "id": "a-io-DKTBMim",
        "outputId": "05aa2288-a596-40e6-e324-1d3efc4f8005"
      },
      "execution_count": 8,
      "outputs": [
        {
          "output_type": "stream",
          "name": "stdout",
          "text": [
            "請輸入密碼:5978\n",
            "歡迎光臨!\n"
          ]
        }
      ]
    },
    {
      "cell_type": "code",
      "source": [
        "password=int(input('請輸入密碼:'))\n",
        "if password ==5978:\n",
        "  print('歡迎光臨!')\n"
      ],
      "metadata": {
        "colab": {
          "base_uri": "https://localhost:8080/"
        },
        "id": "kjJGeID6FgAS",
        "outputId": "153f5146-f307-48b5-c7ac-e67ee5f3e6f5"
      },
      "execution_count": 9,
      "outputs": [
        {
          "name": "stdout",
          "output_type": "stream",
          "text": [
            "請輸入密碼:0519\n"
          ]
        }
      ]
    },
    {
      "cell_type": "code",
      "source": [
        "password=int(input('請輸入密碼:'))\n",
        "if password ==5978:\n",
        "  print('密碼正確')\n",
        "else:\n",
        "  print('密碼不正確')"
      ],
      "metadata": {
        "colab": {
          "base_uri": "https://localhost:8080/"
        },
        "id": "VCixlrLAFill",
        "outputId": "34ba0f9b-e1fc-4087-80ed-7c9b43bcac7e"
      },
      "execution_count": 10,
      "outputs": [
        {
          "output_type": "stream",
          "name": "stdout",
          "text": [
            "請輸入密碼:5978\n",
            "密碼正確\n"
          ]
        }
      ]
    },
    {
      "cell_type": "code",
      "source": [
        "password=int(input('請輸入密碼:'))\n",
        "if password ==5978:\n",
        "  print('密碼正確')\n",
        "else:\n",
        "  print('密碼不正確')"
      ],
      "metadata": {
        "colab": {
          "base_uri": "https://localhost:8080/"
        },
        "id": "3JL2y7g0Frqy",
        "outputId": "a835b058-bdfd-4f9d-d41d-bf164bdbd755"
      },
      "execution_count": 11,
      "outputs": [
        {
          "output_type": "stream",
          "name": "stdout",
          "text": [
            "請輸入密碼:0519\n",
            "密碼不正確\n"
          ]
        }
      ]
    },
    {
      "cell_type": "code",
      "source": [
        "rain=str(input(\"請輸入:\"))\n",
        "if (rain == 'Y' ):\n",
        "  print('出門記得帶傘')\n",
        "if (rain == 'y' ):\n",
        "  print('不用帶傘')"
      ],
      "metadata": {
        "colab": {
          "base_uri": "https://localhost:8080/"
        },
        "id": "GiOdYMGnF15Y",
        "outputId": "eb296949-006d-4e9f-a42d-061a58690945"
      },
      "execution_count": 17,
      "outputs": [
        {
          "output_type": "stream",
          "name": "stdout",
          "text": [
            "請輸入:y\n",
            "不用帶傘\n"
          ]
        }
      ]
    },
    {
      "cell_type": "code",
      "source": [
        "rain=str(input(\"請輸入:\"))\n",
        "if (rain == 'Y' ):\n",
        "  print('出門記得帶傘')\n",
        "if (rain == 'y' ):\n",
        "  print('不用帶傘')"
      ],
      "metadata": {
        "colab": {
          "base_uri": "https://localhost:8080/"
        },
        "id": "3XeQlBo9ICDz",
        "outputId": "f61d8e02-9ed6-408d-b38b-58b1d0256b3a"
      },
      "execution_count": 18,
      "outputs": [
        {
          "output_type": "stream",
          "name": "stdout",
          "text": [
            "請輸入:Y\n",
            "出門記得帶傘\n"
          ]
        }
      ]
    },
    {
      "cell_type": "code",
      "source": [
        "a=input('請輸入正整數:')\n",
        "if int(a) %2 !=0:\n",
        "  print(a,'為奇數!')\n",
        "else:\n",
        "  print(a,'為偶數!')"
      ],
      "metadata": {
        "colab": {
          "base_uri": "https://localhost:8080/"
        },
        "id": "DOlNsM7bJGhI",
        "outputId": "ee05a668-4842-4568-d089-9cf74edaabe6"
      },
      "execution_count": 25,
      "outputs": [
        {
          "output_type": "stream",
          "name": "stdout",
          "text": [
            "請輸入正整數:13\n",
            "13 為奇數!\n"
          ]
        }
      ]
    },
    {
      "cell_type": "code",
      "source": [
        "a=input('請輸入正整數:')\n",
        "if int(a) %2 !=0:\n",
        "  print(a,'為奇數!')\n",
        "else:\n",
        "  print(a,'為偶數!')"
      ],
      "metadata": {
        "colab": {
          "base_uri": "https://localhost:8080/"
        },
        "id": "6Z7AMwHCJvkP",
        "outputId": "f5681115-14f0-418f-caf5-8669a161e77e"
      },
      "execution_count": 26,
      "outputs": [
        {
          "output_type": "stream",
          "name": "stdout",
          "text": [
            "請輸入正整數:16\n",
            "16 為偶數!\n"
          ]
        }
      ]
    },
    {
      "cell_type": "code",
      "source": [],
      "metadata": {
        "id": "MuUI5m06JyBt"
      },
      "execution_count": 21,
      "outputs": []
    }
  ]
}