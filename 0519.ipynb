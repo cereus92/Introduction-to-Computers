{
  "nbformat": 4,
  "nbformat_minor": 0,
  "metadata": {
    "colab": {
      "provenance": [],
      "authorship_tag": "ABX9TyPg/K/qXBFXR72N6ph6J4M4",
      "include_colab_link": true
    },
    "kernelspec": {
      "name": "python3",
      "display_name": "Python 3"
    },
    "language_info": {
      "name": "python"
    }
  },
  "cells": [
    {
      "cell_type": "markdown",
      "metadata": {
        "id": "view-in-github",
        "colab_type": "text"
      },
      "source": [
        "<a href=\"https://colab.research.google.com/github/cereus92/Introduction-to-Computers/blob/main/0519.ipynb\" target=\"_parent\"><img src=\"https://colab.research.google.com/assets/colab-badge.svg\" alt=\"Open In Colab\"/></a>"
      ]
    },
    {
      "cell_type": "code",
      "execution_count": 1,
      "metadata": {
        "colab": {
          "base_uri": "https://localhost:8080/"
        },
        "id": "OLeq3aNC-R5O",
        "outputId": "e775b445-7da6-4a32-8e8f-f66acb1fa0d0"
      },
      "outputs": [
        {
          "output_type": "stream",
          "name": "stdout",
          "text": [
            "Happy\n",
            "Happy\n",
            "Happy\n",
            "Happy\n",
            "Happy\n",
            "Happy\n",
            "Happy\n",
            "Happy\n",
            "Happy\n"
          ]
        }
      ],
      "source": [
        "count=0\n",
        "while count < 9:\n",
        "  print(\"Happy\")\n",
        "  count += 1"
      ]
    },
    {
      "cell_type": "code",
      "source": [
        "for i in range(9):\n",
        "  print(\"Happy\")"
      ],
      "metadata": {
        "colab": {
          "base_uri": "https://localhost:8080/"
        },
        "id": "FB1PT3PaBmqG",
        "outputId": "d3ad2948-5bb7-4bf2-fa18-5918a88bd368"
      },
      "execution_count": 2,
      "outputs": [
        {
          "output_type": "stream",
          "name": "stdout",
          "text": [
            "Happy\n",
            "Happy\n",
            "Happy\n",
            "Happy\n",
            "Happy\n",
            "Happy\n",
            "Happy\n",
            "Happy\n",
            "Happy\n"
          ]
        }
      ]
    },
    {
      "cell_type": "code",
      "source": [
        "secret_number = 21\n",
        "print(\"猜猜看我心裡想的是哪個數字!\")\n",
        "while int(input(\"請輸入一個數字:\")) != secret_number:\n",
        "  print(\"猜錯了,再試一次!\")\n",
        "print(\"恭喜你，猜對了!\") "
      ],
      "metadata": {
        "colab": {
          "base_uri": "https://localhost:8080/"
        },
        "id": "00u4X7MzBvTb",
        "outputId": "dcfedea4-b7c5-47c2-f775-29b3eeed7ae1"
      },
      "execution_count": 4,
      "outputs": [
        {
          "output_type": "stream",
          "name": "stdout",
          "text": [
            "猜猜看我心裡想的是哪個數字!\n",
            "請輸入一個數字:25\n",
            "猜錯了,再試一次!\n",
            "請輸入一個數字:21\n",
            "恭喜你，猜對了!\n"
          ]
        }
      ]
    },
    {
      "cell_type": "code",
      "source": [
        "for j in range(5):\n",
        "  if j ==3:break\n",
        "  print(j)\n",
        "print(\"Bye!!\")"
      ],
      "metadata": {
        "colab": {
          "base_uri": "https://localhost:8080/"
        },
        "id": "BK2QVFf-EZBG",
        "outputId": "2e40f5f3-3d29-44b0-8279-32752bf344d5"
      },
      "execution_count": 6,
      "outputs": [
        {
          "output_type": "stream",
          "name": "stdout",
          "text": [
            "0\n",
            "1\n",
            "2\n",
            "Bye!!\n"
          ]
        }
      ]
    },
    {
      "cell_type": "code",
      "source": [
        "for j in range(5):\n",
        "  if j ==3:continue\n",
        "  print(j)\n",
        "print(\"Bye!!\")"
      ],
      "metadata": {
        "colab": {
          "base_uri": "https://localhost:8080/"
        },
        "id": "y1uqZAr3FZ1c",
        "outputId": "730476eb-e323-435d-a7dd-0f6c5cfd3780"
      },
      "execution_count": 8,
      "outputs": [
        {
          "output_type": "stream",
          "name": "stdout",
          "text": [
            "0\n",
            "1\n",
            "2\n",
            "4\n",
            "Bye!!\n"
          ]
        }
      ]
    },
    {
      "cell_type": "code",
      "source": [],
      "metadata": {
        "id": "glieMX3UF_TT"
      },
      "execution_count": null,
      "outputs": []
    }
  ]
}