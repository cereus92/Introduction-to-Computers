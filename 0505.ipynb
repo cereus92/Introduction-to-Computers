{
  "nbformat": 4,
  "nbformat_minor": 0,
  "metadata": {
    "colab": {
      "provenance": [],
      "authorship_tag": "ABX9TyOTC4pd3nGoWrMIOB6/qq+x",
      "include_colab_link": true
    },
    "kernelspec": {
      "name": "python3",
      "display_name": "Python 3"
    },
    "language_info": {
      "name": "python"
    }
  },
  "cells": [
    {
      "cell_type": "markdown",
      "metadata": {
        "id": "view-in-github",
        "colab_type": "text"
      },
      "source": [
        "<a href=\"https://colab.research.google.com/github/cereus92/Introduction-to-Computers/blob/main/0505.ipynb\" target=\"_parent\"><img src=\"https://colab.research.google.com/assets/colab-badge.svg\" alt=\"Open In Colab\"/></a>"
      ]
    },
    {
      "cell_type": "code",
      "execution_count": 20,
      "metadata": {
        "colab": {
          "base_uri": "https://localhost:8080/"
        },
        "id": "bEhb66ze6zWC",
        "outputId": "53d1ac5e-4703-43cc-e327-e3625972c955"
      },
      "outputs": [
        {
          "output_type": "stream",
          "name": "stdout",
          "text": [
            "peiyu\n",
            "peiyu\n"
          ]
        }
      ],
      "source": [
        "name=input()\n",
        "print('peiyu')"
      ]
    },
    {
      "cell_type": "code",
      "source": [
        "total=0 \n",
        "for i in range(1,101):\n",
        "  total+=i \n",
        "print(total)"
      ],
      "metadata": {
        "colab": {
          "base_uri": "https://localhost:8080/"
        },
        "id": "K83hOS71683p",
        "outputId": "4b868fbb-4f30-40a4-9006-95bcc1873183"
      },
      "execution_count": 21,
      "outputs": [
        {
          "output_type": "stream",
          "name": "stdout",
          "text": [
            "5050\n"
          ]
        }
      ]
    },
    {
      "cell_type": "code",
      "source": [
        "inp=int(input())\n",
        "x=0 \n",
        "for i in range(1,inp+1):   \n",
        "  x+=i \n",
        "print(x)"
      ],
      "metadata": {
        "colab": {
          "base_uri": "https://localhost:8080/"
        },
        "id": "YzvMG-Ju7WWR",
        "outputId": "47966bde-8f7c-485f-d576-7eddc4964127"
      },
      "execution_count": 8,
      "outputs": [
        {
          "output_type": "stream",
          "name": "stdout",
          "text": [
            "100\n",
            "5050\n"
          ]
        }
      ]
    },
    {
      "cell_type": "code",
      "source": [
        "e=range(1,101)\n",
        "print(sum(e))"
      ],
      "metadata": {
        "colab": {
          "base_uri": "https://localhost:8080/"
        },
        "id": "qQW_Jnub7ggZ",
        "outputId": "1443e34c-9e55-4ffc-e877-58070b84b473"
      },
      "execution_count": 9,
      "outputs": [
        {
          "output_type": "stream",
          "name": "stdout",
          "text": [
            "5050\n"
          ]
        }
      ]
    },
    {
      "cell_type": "code",
      "source": [
        "print(sum(range(1,101)))"
      ],
      "metadata": {
        "colab": {
          "base_uri": "https://localhost:8080/"
        },
        "id": "oNp_A0rK7rL4",
        "outputId": "6ac6a66b-a395-40f3-db34-9203db4026dc"
      },
      "execution_count": 10,
      "outputs": [
        {
          "output_type": "stream",
          "name": "stdout",
          "text": [
            "5050\n"
          ]
        }
      ]
    },
    {
      "cell_type": "code",
      "source": [
        "h,w=map(int,input().split()) \n",
        "bmi=w*10000/h**2 \n",
        "print(\"%.2f\"%bmi)"
      ],
      "metadata": {
        "colab": {
          "base_uri": "https://localhost:8080/"
        },
        "id": "iMCiAU0k7tNp",
        "outputId": "8020f368-40fc-4bb5-a4c7-f17c9ac1ae56"
      },
      "execution_count": 11,
      "outputs": [
        {
          "output_type": "stream",
          "name": "stdout",
          "text": [
            "176 75\n",
            "24.21\n"
          ]
        }
      ]
    },
    {
      "cell_type": "code",
      "source": [
        "身高=int(input(\"請輸入你的身高(cm):\"))\n",
        "體重=int(input(\"請輸入你的體重(kg):\"))\n",
        "BMI = 體重/ (身高/100)**2 \n",
        "print(\"BMI值為:%2.2f\"%BMI)"
      ],
      "metadata": {
        "colab": {
          "base_uri": "https://localhost:8080/"
        },
        "id": "iaGytqCq7x0I",
        "outputId": "db181fd6-c9dd-4019-98fd-784f3783c245"
      },
      "execution_count": 12,
      "outputs": [
        {
          "output_type": "stream",
          "name": "stdout",
          "text": [
            "請輸入你的身高(cm):176\n",
            "請輸入你的體重(kg):75\n",
            "BMI值為:24.21\n"
          ]
        }
      ]
    },
    {
      "cell_type": "code",
      "source": [
        "x=1.23456\n",
        "print(round(x,3))"
      ],
      "metadata": {
        "colab": {
          "base_uri": "https://localhost:8080/"
        },
        "id": "m-iurOpm79np",
        "outputId": "d13e1768-ceaa-4884-e6c5-e11b9e5951c1"
      },
      "execution_count": 13,
      "outputs": [
        {
          "output_type": "stream",
          "name": "stdout",
          "text": [
            "1.235\n"
          ]
        }
      ]
    },
    {
      "cell_type": "code",
      "source": [
        "x=1.23456\n",
        "print('%.3f'%x)"
      ],
      "metadata": {
        "colab": {
          "base_uri": "https://localhost:8080/"
        },
        "id": "MDrPJnb48IN5",
        "outputId": "99505599-0837-476e-e398-4cac4c9016ba"
      },
      "execution_count": 14,
      "outputs": [
        {
          "output_type": "stream",
          "name": "stdout",
          "text": [
            "1.235\n"
          ]
        }
      ]
    },
    {
      "cell_type": "code",
      "source": [
        "x=45.6789\n",
        "print(round(x,3))"
      ],
      "metadata": {
        "colab": {
          "base_uri": "https://localhost:8080/"
        },
        "id": "1g5r4Jyc8UOR",
        "outputId": "abe6b14b-4c59-481c-b953-d11d8e514611"
      },
      "execution_count": 15,
      "outputs": [
        {
          "output_type": "stream",
          "name": "stdout",
          "text": [
            "45.679\n"
          ]
        }
      ]
    },
    {
      "cell_type": "code",
      "source": [
        "x=45.6789\n",
        "print('%.3f'%x)"
      ],
      "metadata": {
        "colab": {
          "base_uri": "https://localhost:8080/"
        },
        "id": "QLzv-qjS8bHB",
        "outputId": "0a691560-b308-4cb3-c7ca-995ec0b3a81b"
      },
      "execution_count": 16,
      "outputs": [
        {
          "output_type": "stream",
          "name": "stdout",
          "text": [
            "45.679\n"
          ]
        }
      ]
    },
    {
      "cell_type": "code",
      "source": [],
      "metadata": {
        "id": "TEWmHygX8fQR"
      },
      "execution_count": null,
      "outputs": []
    }
  ]
}