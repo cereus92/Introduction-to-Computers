{
  "nbformat": 4,
  "nbformat_minor": 0,
  "metadata": {
    "colab": {
      "provenance": [],
      "authorship_tag": "ABX9TyPPSbZNAezadTddAcMcewZk",
      "include_colab_link": true
    },
    "kernelspec": {
      "name": "python3",
      "display_name": "Python 3"
    },
    "language_info": {
      "name": "python"
    }
  },
  "cells": [
    {
      "cell_type": "markdown",
      "metadata": {
        "id": "view-in-github",
        "colab_type": "text"
      },
      "source": [
        "<a href=\"https://colab.research.google.com/github/cereus92/Introduction-to-Computers/blob/main/Untitled5.ipynb\" target=\"_parent\"><img src=\"https://colab.research.google.com/assets/colab-badge.svg\" alt=\"Open In Colab\"/></a>"
      ]
    },
    {
      "cell_type": "code",
      "execution_count": 1,
      "metadata": {
        "colab": {
          "base_uri": "https://localhost:8080/"
        },
        "id": "mto-gvld7vre",
        "outputId": "ee792a14-80c4-4157-d403-80d41569913e"
      },
      "outputs": [
        {
          "output_type": "stream",
          "name": "stdout",
          "text": [
            "請輸入整數:43\n",
            "奇數\n",
            "Bye!!\n"
          ]
        }
      ],
      "source": [
        "num = int(input(\"請輸入整數:\"))\n",
        "if num %2 == 0:\n",
        "    print(\"偶數\")\n",
        "else:\n",
        "    print(\"奇數\")\n",
        "print(\"Bye!!\")"
      ]
    },
    {
      "cell_type": "code",
      "execution_count": 10,
      "metadata": {
        "colab": {
          "base_uri": "https://localhost:8080/"
        },
        "outputId": "03965fc4-faeb-4504-b908-d52b49a81e57",
        "id": "8tvzMz2n_dRC"
      },
      "outputs": [
        {
          "output_type": "stream",
          "name": "stdout",
          "text": [
            "請輸入整數:50\n",
            "偶數\n",
            "Bye!!\n"
          ]
        }
      ],
      "source": [
        "num = int(input(\"請輸入整數:\"))\n",
        "if num %2 == 0:\n",
        "    print(\"偶數\")\n",
        "else:\n",
        "    print(\"奇數\")\n",
        "print(\"Bye!!\")"
      ]
    },
    {
      "cell_type": "code",
      "source": [
        "age = int(input(\"請輸入您的年齡:\"))\n",
        "if age <= 18:\n",
        "    print(\"未成年人\")\n",
        "elif age >= 18 and age <= 65:\n",
        "    print(\"成年人\")\n",
        "else:\n",
        "    print(\"老年人\")"
      ],
      "metadata": {
        "colab": {
          "base_uri": "https://localhost:8080/"
        },
        "id": "k389YMai9Axo",
        "outputId": "412b8cb5-d0f5-47c7-ee70-02466e50e84b"
      },
      "execution_count": 2,
      "outputs": [
        {
          "output_type": "stream",
          "name": "stdout",
          "text": [
            "請輸入您的年齡:65\n",
            "成年人\n"
          ]
        }
      ]
    },
    {
      "cell_type": "code",
      "source": [
        "age = int(input(\"請輸入您的年齡:\"))\n",
        "if age <= 18:\n",
        "    print(\"未成年人\")\n",
        "elif age >= 18 and age <= 65:\n",
        "    print(\"成年人\")\n",
        "else:\n",
        "    print(\"老年人\")"
      ],
      "metadata": {
        "colab": {
          "base_uri": "https://localhost:8080/"
        },
        "outputId": "3df5ae31-422b-48a5-e3f7-8943c41ef1f3",
        "id": "r7RF6sFn_RP_"
      },
      "execution_count": 8,
      "outputs": [
        {
          "output_type": "stream",
          "name": "stdout",
          "text": [
            "請輸入您的年齡:15\n",
            "未成年人\n"
          ]
        }
      ]
    },
    {
      "cell_type": "code",
      "source": [
        "age = int(input(\"請輸入您的年齡:\"))\n",
        "if age <= 18:\n",
        "    print(\"未成年人\")\n",
        "elif age >= 18 and age <= 65:\n",
        "    print(\"成年人\")\n",
        "else:\n",
        "    print(\"老年人\")"
      ],
      "metadata": {
        "colab": {
          "base_uri": "https://localhost:8080/"
        },
        "outputId": "9ca8ddfd-ac6d-42a3-ff84-ec834b3fe914",
        "id": "7-cXd_I4_Rmq"
      },
      "execution_count": 9,
      "outputs": [
        {
          "output_type": "stream",
          "name": "stdout",
          "text": [
            "請輸入您的年齡:80\n",
            "老年人\n"
          ]
        }
      ]
    },
    {
      "cell_type": "code",
      "source": [
        "month = int(input(\"Month:\"))\n",
        "if month in [1,2,3]:\n",
        "    print(\"春季\")\n",
        "elif month in [4,5,6]:\n",
        "    print(\"夏季\")\n",
        "elif month in [7,8,9]:\n",
        "    print(\"秋季\")\n",
        "elif month in [10,11,12]:\n",
        "    print(\"冬季\")\n",
        "else:\n",
        "    print(\"無效月份\")"
      ],
      "metadata": {
        "colab": {
          "base_uri": "https://localhost:8080/"
        },
        "id": "2FiAwuEz-E_p",
        "outputId": "d8b02c83-e17b-4df9-a7ad-d19e083db017"
      },
      "execution_count": 3,
      "outputs": [
        {
          "output_type": "stream",
          "name": "stdout",
          "text": [
            "Month:3\n",
            "春季\n"
          ]
        }
      ]
    },
    {
      "cell_type": "code",
      "source": [
        "month = int(input(\"Month:\"))\n",
        "if month in [1,2,3]:\n",
        "    print(\"春季\")\n",
        "elif month in [4,5,6]:\n",
        "    print(\"夏季\")\n",
        "elif month in [7,8,9]:\n",
        "    print(\"秋季\")\n",
        "elif month in [10,11,12]:\n",
        "    print(\"冬季\")\n",
        "else:\n",
        "    print(\"無效月份\")"
      ],
      "metadata": {
        "colab": {
          "base_uri": "https://localhost:8080/"
        },
        "id": "nRYckC5C-zz3",
        "outputId": "0db72b76-0921-4254-f86f-90a280d0cdd0"
      },
      "execution_count": 4,
      "outputs": [
        {
          "output_type": "stream",
          "name": "stdout",
          "text": [
            "Month:6\n",
            "夏季\n"
          ]
        }
      ]
    },
    {
      "cell_type": "code",
      "source": [
        "month = int(input(\"Month:\"))\n",
        "if month in [1,2,3]:\n",
        "    print(\"春季\")\n",
        "elif month in [4,5,6]:\n",
        "    print(\"夏季\")\n",
        "elif month in [7,8,9]:\n",
        "    print(\"秋季\")\n",
        "elif month in [10,11,12]:\n",
        "    print(\"冬季\")\n",
        "else:\n",
        "    print(\"無效月份\")"
      ],
      "metadata": {
        "colab": {
          "base_uri": "https://localhost:8080/"
        },
        "id": "Hy6ujyg7-5cF",
        "outputId": "88a560de-424a-4bfc-81cc-92cfe4298886"
      },
      "execution_count": 5,
      "outputs": [
        {
          "output_type": "stream",
          "name": "stdout",
          "text": [
            "Month:9\n",
            "秋季\n"
          ]
        }
      ]
    },
    {
      "cell_type": "code",
      "source": [
        "month = int(input(\"Month:\"))\n",
        "if month in [1,2,3]:\n",
        "    print(\"春季\")\n",
        "elif month in [4,5,6]:\n",
        "    print(\"夏季\")\n",
        "elif month in [7,8,9]:\n",
        "    print(\"秋季\")\n",
        "elif month in [10,11,12]:\n",
        "    print(\"冬季\")\n",
        "else:\n",
        "    print(\"無效月份\")"
      ],
      "metadata": {
        "colab": {
          "base_uri": "https://localhost:8080/"
        },
        "id": "n4KIey4F-8Ee",
        "outputId": "501cd9c4-a414-4cb6-f3f4-d3bea1e5c97e"
      },
      "execution_count": 6,
      "outputs": [
        {
          "output_type": "stream",
          "name": "stdout",
          "text": [
            "Month:12\n",
            "冬季\n"
          ]
        }
      ]
    },
    {
      "cell_type": "code",
      "source": [
        "month = int(input(\"Month:\"))\n",
        "if month in [1,2,3]:\n",
        "    print(\"春季\")\n",
        "elif month in [4,5,6]:\n",
        "    print(\"夏季\")\n",
        "elif month in [7,8,9]:\n",
        "    print(\"秋季\")\n",
        "elif month in [10,11,12]:\n",
        "    print(\"冬季\")\n",
        "else:\n",
        "    print(\"無效月份\")"
      ],
      "metadata": {
        "colab": {
          "base_uri": "https://localhost:8080/"
        },
        "id": "SL8hMBQl--cG",
        "outputId": "47100df9-b8ef-4768-ec68-66c695b59ede"
      },
      "execution_count": 7,
      "outputs": [
        {
          "output_type": "stream",
          "name": "stdout",
          "text": [
            "Month:15\n",
            "無效月份\n"
          ]
        }
      ]
    },
    {
      "cell_type": "code",
      "source": [],
      "metadata": {
        "id": "SnvmetVr_AFW"
      },
      "execution_count": null,
      "outputs": []
    }
  ]
}