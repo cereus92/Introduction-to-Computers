{
  "nbformat": 4,
  "nbformat_minor": 0,
  "metadata": {
    "colab": {
      "provenance": [],
      "authorship_tag": "ABX9TyMIv2kpLIlgm0KvDno0NBP/",
      "include_colab_link": true
    },
    "kernelspec": {
      "name": "python3",
      "display_name": "Python 3"
    },
    "language_info": {
      "name": "python"
    }
  },
  "cells": [
    {
      "cell_type": "markdown",
      "metadata": {
        "id": "view-in-github",
        "colab_type": "text"
      },
      "source": [
        "<a href=\"https://colab.research.google.com/github/cereus92/Introduction-to-Computers/blob/main/0526.ipynb\" target=\"_parent\"><img src=\"https://colab.research.google.com/assets/colab-badge.svg\" alt=\"Open In Colab\"/></a>"
      ]
    },
    {
      "cell_type": "code",
      "execution_count": null,
      "metadata": {
        "colab": {
          "base_uri": "https://localhost:8080/"
        },
        "id": "6zrdpRuC-lBc",
        "outputId": "d5142b65-7f71-4564-9d18-a12975e68df8"
      },
      "outputs": [
        {
          "output_type": "stream",
          "name": "stdout",
          "text": [
            "請輸入一個正整數:13\n",
            "1 2 3 4 5 6 7 8 9 10 11 12 13 "
          ]
        }
      ],
      "source": [
        "num=int(input(\"請輸入一個正整數:\"))\n",
        "for i in range(1,num+1):\n",
        "      print(i,end=\" \")"
      ]
    },
    {
      "cell_type": "code",
      "source": [
        "x=42\n",
        "y=24\n",
        "print(\"這是兩個整數:%d 和 %d \" % (x,y))"
      ],
      "metadata": {
        "colab": {
          "base_uri": "https://localhost:8080/"
        },
        "id": "MSB477mv_ovt",
        "outputId": "7c741685-8b0f-4e8e-e406-a6a32fedb2c2"
      },
      "execution_count": null,
      "outputs": [
        {
          "output_type": "stream",
          "name": "stdout",
          "text": [
            "這是兩個整數:42 和 24 \n"
          ]
        }
      ]
    },
    {
      "cell_type": "code",
      "source": [
        "n = int(input(\"請輸入一個正整數: \"))\n",
        "total = 0 \n",
        "for i in range(1, n+1):\n",
        "    total +=i\n",
        "    p_sum = sum(range(1, i+1))\n",
        "    print(\"1到%d的總和為: %d\" % (i,p_sum))"
      ],
      "metadata": {
        "colab": {
          "base_uri": "https://localhost:8080/"
        },
        "id": "auoz3kTNAYO0",
        "outputId": "f7cd5142-d5b1-43e8-a618-d5f824c2a719"
      },
      "execution_count": null,
      "outputs": [
        {
          "output_type": "stream",
          "name": "stdout",
          "text": [
            "請輸入一個正整數: 8\n",
            "1到1的總和為: 1\n",
            "1到2的總和為: 3\n",
            "1到3的總和為: 6\n",
            "1到4的總和為: 10\n",
            "1到5的總和為: 15\n",
            "1到6的總和為: 21\n",
            "1到7的總和為: 28\n",
            "1到8的總和為: 36\n"
          ]
        }
      ]
    },
    {
      "cell_type": "code",
      "source": [
        "a=input(\"請輸入字串:\")\n",
        "for i in range(len(a)):\n",
        "  if(i %2 !=0):\n",
        "    print(a[i].upper(),end=\"\")\n",
        "  else:\n",
        "    print(a[i].lower(),end=\"\")"
      ],
      "metadata": {
        "colab": {
          "base_uri": "https://localhost:8080/"
        },
        "id": "3zN5syvj5ALl",
        "outputId": "368804ae-6bd8-4a67-9d34-52f6e41e7b05"
      },
      "execution_count": null,
      "outputs": [
        {
          "output_type": "stream",
          "name": "stdout",
          "text": [
            "請輸入字串:panda\n",
            "pAnDa"
          ]
        }
      ]
    },
    {
      "cell_type": "code",
      "source": [
        "n = int(input(\"請輸入整數:\"))\n",
        "for i in range(1,n+1):\n",
        "    for j in range(i):\n",
        "        print(\"*\",end=\" \")\n",
        "    print()"
      ],
      "metadata": {
        "colab": {
          "base_uri": "https://localhost:8080/"
        },
        "id": "L779WwyO6_Ue",
        "outputId": "4a7b4a50-ed2b-411c-f218-4624ce1a8ac5"
      },
      "execution_count": null,
      "outputs": [
        {
          "output_type": "stream",
          "name": "stdout",
          "text": [
            "請輸入整數:5\n",
            "* \n",
            "* * \n",
            "* * * \n",
            "* * * * \n",
            "* * * * * \n"
          ]
        }
      ]
    },
    {
      "cell_type": "code",
      "source": [
        "n = int(input(\"請輸入整數:\"))\n",
        "for i in range(1,n+1):\n",
        "    for j in range(i):\n",
        "        print(j+1,end=\" \")\n",
        "    print()"
      ],
      "metadata": {
        "colab": {
          "base_uri": "https://localhost:8080/"
        },
        "id": "0oVQ97A67hIl",
        "outputId": "30557f42-15ae-42cb-86bd-f6a49fe54463"
      },
      "execution_count": null,
      "outputs": [
        {
          "output_type": "stream",
          "name": "stdout",
          "text": [
            "請輸入整數:5\n",
            "1 \n",
            "1 2 \n",
            "1 2 3 \n",
            "1 2 3 4 \n",
            "1 2 3 4 5 \n"
          ]
        }
      ]
    },
    {
      "cell_type": "code",
      "source": [],
      "metadata": {
        "id": "7qIjzbJD9XRr"
      },
      "execution_count": null,
      "outputs": []
    }
  ]
}